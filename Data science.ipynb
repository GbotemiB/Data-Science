{
 "cells": [
  {
   "cell_type": "code",
   "execution_count": 4,
   "metadata": {},
   "outputs": [],
   "source": [
    "import numpy as np\n",
    "import pandas as pd\n",
    "import seaborn as sns\n",
    "import matplotlib.pyplot as plt\n"
   ]
  },
  {
   "cell_type": "code",
   "execution_count": 26,
   "metadata": {},
   "outputs": [],
   "source": [
    "#url = 'https://archive.ics.uci.edu/ml/machine-learning-databases/00374/energydata_complete.csv'\n",
    "url = 'energydata_complete.csv'\n",
    "df = pd.read_csv(url)"
   ]
  },
  {
   "cell_type": "code",
   "execution_count": 14,
   "metadata": {},
   "outputs": [
    {
     "output_type": "execute_result",
     "data": {
      "text/plain": "                  date  Appliances  lights     T1       RH_1    T2       RH_2  \\\n0  2016-01-11 17:00:00          60      30  19.89  47.596667  19.2  44.790000   \n1  2016-01-11 17:10:00          60      30  19.89  46.693333  19.2  44.722500   \n2  2016-01-11 17:20:00          50      30  19.89  46.300000  19.2  44.626667   \n3  2016-01-11 17:30:00          50      40  19.89  46.066667  19.2  44.590000   \n4  2016-01-11 17:40:00          60      40  19.89  46.333333  19.2  44.530000   \n\n      T3       RH_3         T4  ...         T9   RH_9     T_out  Press_mm_hg  \\\n0  19.79  44.730000  19.000000  ...  17.033333  45.53  6.600000        733.5   \n1  19.79  44.790000  19.000000  ...  17.066667  45.56  6.483333        733.6   \n2  19.79  44.933333  18.926667  ...  17.000000  45.50  6.366667        733.7   \n3  19.79  45.000000  18.890000  ...  17.000000  45.40  6.250000        733.8   \n4  19.79  45.000000  18.890000  ...  17.000000  45.40  6.133333        733.9   \n\n   RH_out  Windspeed  Visibility  Tdewpoint        rv1        rv2  \n0    92.0   7.000000   63.000000        5.3  13.275433  13.275433  \n1    92.0   6.666667   59.166667        5.2  18.606195  18.606195  \n2    92.0   6.333333   55.333333        5.1  28.642668  28.642668  \n3    92.0   6.000000   51.500000        5.0  45.410389  45.410389  \n4    92.0   5.666667   47.666667        4.9  10.084097  10.084097  \n\n[5 rows x 29 columns]",
      "text/html": "<div>\n<style scoped>\n    .dataframe tbody tr th:only-of-type {\n        vertical-align: middle;\n    }\n\n    .dataframe tbody tr th {\n        vertical-align: top;\n    }\n\n    .dataframe thead th {\n        text-align: right;\n    }\n</style>\n<table border=\"1\" class=\"dataframe\">\n  <thead>\n    <tr style=\"text-align: right;\">\n      <th></th>\n      <th>date</th>\n      <th>Appliances</th>\n      <th>lights</th>\n      <th>T1</th>\n      <th>RH_1</th>\n      <th>T2</th>\n      <th>RH_2</th>\n      <th>T3</th>\n      <th>RH_3</th>\n      <th>T4</th>\n      <th>...</th>\n      <th>T9</th>\n      <th>RH_9</th>\n      <th>T_out</th>\n      <th>Press_mm_hg</th>\n      <th>RH_out</th>\n      <th>Windspeed</th>\n      <th>Visibility</th>\n      <th>Tdewpoint</th>\n      <th>rv1</th>\n      <th>rv2</th>\n    </tr>\n  </thead>\n  <tbody>\n    <tr>\n      <th>0</th>\n      <td>2016-01-11 17:00:00</td>\n      <td>60</td>\n      <td>30</td>\n      <td>19.89</td>\n      <td>47.596667</td>\n      <td>19.2</td>\n      <td>44.790000</td>\n      <td>19.79</td>\n      <td>44.730000</td>\n      <td>19.000000</td>\n      <td>...</td>\n      <td>17.033333</td>\n      <td>45.53</td>\n      <td>6.600000</td>\n      <td>733.5</td>\n      <td>92.0</td>\n      <td>7.000000</td>\n      <td>63.000000</td>\n      <td>5.3</td>\n      <td>13.275433</td>\n      <td>13.275433</td>\n    </tr>\n    <tr>\n      <th>1</th>\n      <td>2016-01-11 17:10:00</td>\n      <td>60</td>\n      <td>30</td>\n      <td>19.89</td>\n      <td>46.693333</td>\n      <td>19.2</td>\n      <td>44.722500</td>\n      <td>19.79</td>\n      <td>44.790000</td>\n      <td>19.000000</td>\n      <td>...</td>\n      <td>17.066667</td>\n      <td>45.56</td>\n      <td>6.483333</td>\n      <td>733.6</td>\n      <td>92.0</td>\n      <td>6.666667</td>\n      <td>59.166667</td>\n      <td>5.2</td>\n      <td>18.606195</td>\n      <td>18.606195</td>\n    </tr>\n    <tr>\n      <th>2</th>\n      <td>2016-01-11 17:20:00</td>\n      <td>50</td>\n      <td>30</td>\n      <td>19.89</td>\n      <td>46.300000</td>\n      <td>19.2</td>\n      <td>44.626667</td>\n      <td>19.79</td>\n      <td>44.933333</td>\n      <td>18.926667</td>\n      <td>...</td>\n      <td>17.000000</td>\n      <td>45.50</td>\n      <td>6.366667</td>\n      <td>733.7</td>\n      <td>92.0</td>\n      <td>6.333333</td>\n      <td>55.333333</td>\n      <td>5.1</td>\n      <td>28.642668</td>\n      <td>28.642668</td>\n    </tr>\n    <tr>\n      <th>3</th>\n      <td>2016-01-11 17:30:00</td>\n      <td>50</td>\n      <td>40</td>\n      <td>19.89</td>\n      <td>46.066667</td>\n      <td>19.2</td>\n      <td>44.590000</td>\n      <td>19.79</td>\n      <td>45.000000</td>\n      <td>18.890000</td>\n      <td>...</td>\n      <td>17.000000</td>\n      <td>45.40</td>\n      <td>6.250000</td>\n      <td>733.8</td>\n      <td>92.0</td>\n      <td>6.000000</td>\n      <td>51.500000</td>\n      <td>5.0</td>\n      <td>45.410389</td>\n      <td>45.410389</td>\n    </tr>\n    <tr>\n      <th>4</th>\n      <td>2016-01-11 17:40:00</td>\n      <td>60</td>\n      <td>40</td>\n      <td>19.89</td>\n      <td>46.333333</td>\n      <td>19.2</td>\n      <td>44.530000</td>\n      <td>19.79</td>\n      <td>45.000000</td>\n      <td>18.890000</td>\n      <td>...</td>\n      <td>17.000000</td>\n      <td>45.40</td>\n      <td>6.133333</td>\n      <td>733.9</td>\n      <td>92.0</td>\n      <td>5.666667</td>\n      <td>47.666667</td>\n      <td>4.9</td>\n      <td>10.084097</td>\n      <td>10.084097</td>\n    </tr>\n  </tbody>\n</table>\n<p>5 rows × 29 columns</p>\n</div>"
     },
     "metadata": {},
     "execution_count": 14
    }
   ],
   "source": [
    "df.head()"
   ]
  },
  {
   "cell_type": "code",
   "execution_count": 16,
   "metadata": {},
   "outputs": [
    {
     "output_type": "execute_result",
     "data": {
      "text/plain": "                       date    Appliances        lights            T1  \\\ncount                 19735  19735.000000  19735.000000  19735.000000   \nunique                19735           NaN           NaN           NaN   \ntop     2016-02-28 13:20:00           NaN           NaN           NaN   \nfreq                      1           NaN           NaN           NaN   \nmean                    NaN     97.694958      3.801875     21.686571   \nstd                     NaN    102.524891      7.935988      1.606066   \nmin                     NaN     10.000000      0.000000     16.790000   \n25%                     NaN     50.000000      0.000000     20.760000   \n50%                     NaN     60.000000      0.000000     21.600000   \n75%                     NaN    100.000000      0.000000     22.600000   \nmax                     NaN   1080.000000     70.000000     26.260000   \n\n                RH_1            T2          RH_2            T3          RH_3  \\\ncount   19735.000000  19735.000000  19735.000000  19735.000000  19735.000000   \nunique           NaN           NaN           NaN           NaN           NaN   \ntop              NaN           NaN           NaN           NaN           NaN   \nfreq             NaN           NaN           NaN           NaN           NaN   \nmean       40.259739     20.341219     40.420420     22.267611     39.242500   \nstd         3.979299      2.192974      4.069813      2.006111      3.254576   \nmin        27.023333     16.100000     20.463333     17.200000     28.766667   \n25%        37.333333     18.790000     37.900000     20.790000     36.900000   \n50%        39.656667     20.000000     40.500000     22.100000     38.530000   \n75%        43.066667     21.500000     43.260000     23.290000     41.760000   \nmax        63.360000     29.856667     56.026667     29.236000     50.163333   \n\n                  T4  ...            T9          RH_9         T_out  \\\ncount   19735.000000  ...  19735.000000  19735.000000  19735.000000   \nunique           NaN  ...           NaN           NaN           NaN   \ntop              NaN  ...           NaN           NaN           NaN   \nfreq             NaN  ...           NaN           NaN           NaN   \nmean       20.855335  ...     19.485828     41.552401      7.411665   \nstd         2.042884  ...      2.014712      4.151497      5.317409   \nmin        15.100000  ...     14.890000     29.166667     -5.000000   \n25%        19.530000  ...     18.000000     38.500000      3.666667   \n50%        20.666667  ...     19.390000     40.900000      6.916667   \n75%        22.100000  ...     20.600000     44.338095     10.408333   \nmax        26.200000  ...     24.500000     53.326667     26.100000   \n\n         Press_mm_hg        RH_out     Windspeed    Visibility     Tdewpoint  \\\ncount   19735.000000  19735.000000  19735.000000  19735.000000  19735.000000   \nunique           NaN           NaN           NaN           NaN           NaN   \ntop              NaN           NaN           NaN           NaN           NaN   \nfreq             NaN           NaN           NaN           NaN           NaN   \nmean      755.522602     79.750418      4.039752     38.330834      3.760707   \nstd         7.399441     14.901088      2.451221     11.794719      4.194648   \nmin       729.300000     24.000000      0.000000      1.000000     -6.600000   \n25%       750.933333     70.333333      2.000000     29.000000      0.900000   \n50%       756.100000     83.666667      3.666667     40.000000      3.433333   \n75%       760.933333     91.666667      5.500000     40.000000      6.566667   \nmax       772.300000    100.000000     14.000000     66.000000     15.500000   \n\n                 rv1           rv2  \ncount   19735.000000  19735.000000  \nunique           NaN           NaN  \ntop              NaN           NaN  \nfreq             NaN           NaN  \nmean       24.988033     24.988033  \nstd        14.496634     14.496634  \nmin         0.005322      0.005322  \n25%        12.497889     12.497889  \n50%        24.897653     24.897653  \n75%        37.583769     37.583769  \nmax        49.996530     49.996530  \n\n[11 rows x 29 columns]",
      "text/html": "<div>\n<style scoped>\n    .dataframe tbody tr th:only-of-type {\n        vertical-align: middle;\n    }\n\n    .dataframe tbody tr th {\n        vertical-align: top;\n    }\n\n    .dataframe thead th {\n        text-align: right;\n    }\n</style>\n<table border=\"1\" class=\"dataframe\">\n  <thead>\n    <tr style=\"text-align: right;\">\n      <th></th>\n      <th>date</th>\n      <th>Appliances</th>\n      <th>lights</th>\n      <th>T1</th>\n      <th>RH_1</th>\n      <th>T2</th>\n      <th>RH_2</th>\n      <th>T3</th>\n      <th>RH_3</th>\n      <th>T4</th>\n      <th>...</th>\n      <th>T9</th>\n      <th>RH_9</th>\n      <th>T_out</th>\n      <th>Press_mm_hg</th>\n      <th>RH_out</th>\n      <th>Windspeed</th>\n      <th>Visibility</th>\n      <th>Tdewpoint</th>\n      <th>rv1</th>\n      <th>rv2</th>\n    </tr>\n  </thead>\n  <tbody>\n    <tr>\n      <th>count</th>\n      <td>19735</td>\n      <td>19735.000000</td>\n      <td>19735.000000</td>\n      <td>19735.000000</td>\n      <td>19735.000000</td>\n      <td>19735.000000</td>\n      <td>19735.000000</td>\n      <td>19735.000000</td>\n      <td>19735.000000</td>\n      <td>19735.000000</td>\n      <td>...</td>\n      <td>19735.000000</td>\n      <td>19735.000000</td>\n      <td>19735.000000</td>\n      <td>19735.000000</td>\n      <td>19735.000000</td>\n      <td>19735.000000</td>\n      <td>19735.000000</td>\n      <td>19735.000000</td>\n      <td>19735.000000</td>\n      <td>19735.000000</td>\n    </tr>\n    <tr>\n      <th>unique</th>\n      <td>19735</td>\n      <td>NaN</td>\n      <td>NaN</td>\n      <td>NaN</td>\n      <td>NaN</td>\n      <td>NaN</td>\n      <td>NaN</td>\n      <td>NaN</td>\n      <td>NaN</td>\n      <td>NaN</td>\n      <td>...</td>\n      <td>NaN</td>\n      <td>NaN</td>\n      <td>NaN</td>\n      <td>NaN</td>\n      <td>NaN</td>\n      <td>NaN</td>\n      <td>NaN</td>\n      <td>NaN</td>\n      <td>NaN</td>\n      <td>NaN</td>\n    </tr>\n    <tr>\n      <th>top</th>\n      <td>2016-02-28 13:20:00</td>\n      <td>NaN</td>\n      <td>NaN</td>\n      <td>NaN</td>\n      <td>NaN</td>\n      <td>NaN</td>\n      <td>NaN</td>\n      <td>NaN</td>\n      <td>NaN</td>\n      <td>NaN</td>\n      <td>...</td>\n      <td>NaN</td>\n      <td>NaN</td>\n      <td>NaN</td>\n      <td>NaN</td>\n      <td>NaN</td>\n      <td>NaN</td>\n      <td>NaN</td>\n      <td>NaN</td>\n      <td>NaN</td>\n      <td>NaN</td>\n    </tr>\n    <tr>\n      <th>freq</th>\n      <td>1</td>\n      <td>NaN</td>\n      <td>NaN</td>\n      <td>NaN</td>\n      <td>NaN</td>\n      <td>NaN</td>\n      <td>NaN</td>\n      <td>NaN</td>\n      <td>NaN</td>\n      <td>NaN</td>\n      <td>...</td>\n      <td>NaN</td>\n      <td>NaN</td>\n      <td>NaN</td>\n      <td>NaN</td>\n      <td>NaN</td>\n      <td>NaN</td>\n      <td>NaN</td>\n      <td>NaN</td>\n      <td>NaN</td>\n      <td>NaN</td>\n    </tr>\n    <tr>\n      <th>mean</th>\n      <td>NaN</td>\n      <td>97.694958</td>\n      <td>3.801875</td>\n      <td>21.686571</td>\n      <td>40.259739</td>\n      <td>20.341219</td>\n      <td>40.420420</td>\n      <td>22.267611</td>\n      <td>39.242500</td>\n      <td>20.855335</td>\n      <td>...</td>\n      <td>19.485828</td>\n      <td>41.552401</td>\n      <td>7.411665</td>\n      <td>755.522602</td>\n      <td>79.750418</td>\n      <td>4.039752</td>\n      <td>38.330834</td>\n      <td>3.760707</td>\n      <td>24.988033</td>\n      <td>24.988033</td>\n    </tr>\n    <tr>\n      <th>std</th>\n      <td>NaN</td>\n      <td>102.524891</td>\n      <td>7.935988</td>\n      <td>1.606066</td>\n      <td>3.979299</td>\n      <td>2.192974</td>\n      <td>4.069813</td>\n      <td>2.006111</td>\n      <td>3.254576</td>\n      <td>2.042884</td>\n      <td>...</td>\n      <td>2.014712</td>\n      <td>4.151497</td>\n      <td>5.317409</td>\n      <td>7.399441</td>\n      <td>14.901088</td>\n      <td>2.451221</td>\n      <td>11.794719</td>\n      <td>4.194648</td>\n      <td>14.496634</td>\n      <td>14.496634</td>\n    </tr>\n    <tr>\n      <th>min</th>\n      <td>NaN</td>\n      <td>10.000000</td>\n      <td>0.000000</td>\n      <td>16.790000</td>\n      <td>27.023333</td>\n      <td>16.100000</td>\n      <td>20.463333</td>\n      <td>17.200000</td>\n      <td>28.766667</td>\n      <td>15.100000</td>\n      <td>...</td>\n      <td>14.890000</td>\n      <td>29.166667</td>\n      <td>-5.000000</td>\n      <td>729.300000</td>\n      <td>24.000000</td>\n      <td>0.000000</td>\n      <td>1.000000</td>\n      <td>-6.600000</td>\n      <td>0.005322</td>\n      <td>0.005322</td>\n    </tr>\n    <tr>\n      <th>25%</th>\n      <td>NaN</td>\n      <td>50.000000</td>\n      <td>0.000000</td>\n      <td>20.760000</td>\n      <td>37.333333</td>\n      <td>18.790000</td>\n      <td>37.900000</td>\n      <td>20.790000</td>\n      <td>36.900000</td>\n      <td>19.530000</td>\n      <td>...</td>\n      <td>18.000000</td>\n      <td>38.500000</td>\n      <td>3.666667</td>\n      <td>750.933333</td>\n      <td>70.333333</td>\n      <td>2.000000</td>\n      <td>29.000000</td>\n      <td>0.900000</td>\n      <td>12.497889</td>\n      <td>12.497889</td>\n    </tr>\n    <tr>\n      <th>50%</th>\n      <td>NaN</td>\n      <td>60.000000</td>\n      <td>0.000000</td>\n      <td>21.600000</td>\n      <td>39.656667</td>\n      <td>20.000000</td>\n      <td>40.500000</td>\n      <td>22.100000</td>\n      <td>38.530000</td>\n      <td>20.666667</td>\n      <td>...</td>\n      <td>19.390000</td>\n      <td>40.900000</td>\n      <td>6.916667</td>\n      <td>756.100000</td>\n      <td>83.666667</td>\n      <td>3.666667</td>\n      <td>40.000000</td>\n      <td>3.433333</td>\n      <td>24.897653</td>\n      <td>24.897653</td>\n    </tr>\n    <tr>\n      <th>75%</th>\n      <td>NaN</td>\n      <td>100.000000</td>\n      <td>0.000000</td>\n      <td>22.600000</td>\n      <td>43.066667</td>\n      <td>21.500000</td>\n      <td>43.260000</td>\n      <td>23.290000</td>\n      <td>41.760000</td>\n      <td>22.100000</td>\n      <td>...</td>\n      <td>20.600000</td>\n      <td>44.338095</td>\n      <td>10.408333</td>\n      <td>760.933333</td>\n      <td>91.666667</td>\n      <td>5.500000</td>\n      <td>40.000000</td>\n      <td>6.566667</td>\n      <td>37.583769</td>\n      <td>37.583769</td>\n    </tr>\n    <tr>\n      <th>max</th>\n      <td>NaN</td>\n      <td>1080.000000</td>\n      <td>70.000000</td>\n      <td>26.260000</td>\n      <td>63.360000</td>\n      <td>29.856667</td>\n      <td>56.026667</td>\n      <td>29.236000</td>\n      <td>50.163333</td>\n      <td>26.200000</td>\n      <td>...</td>\n      <td>24.500000</td>\n      <td>53.326667</td>\n      <td>26.100000</td>\n      <td>772.300000</td>\n      <td>100.000000</td>\n      <td>14.000000</td>\n      <td>66.000000</td>\n      <td>15.500000</td>\n      <td>49.996530</td>\n      <td>49.996530</td>\n    </tr>\n  </tbody>\n</table>\n<p>11 rows × 29 columns</p>\n</div>"
     },
     "metadata": {},
     "execution_count": 16
    }
   ],
   "source": [
    "df.describe(include='all')"
   ]
  },
  {
   "cell_type": "code",
   "execution_count": 17,
   "metadata": {
    "tags": []
   },
   "outputs": [
    {
     "output_type": "stream",
     "name": "stdout",
     "text": "<class 'pandas.core.frame.DataFrame'>\nRangeIndex: 19735 entries, 0 to 19734\nData columns (total 29 columns):\n #   Column       Non-Null Count  Dtype  \n---  ------       --------------  -----  \n 0   date         19735 non-null  object \n 1   Appliances   19735 non-null  int64  \n 2   lights       19735 non-null  int64  \n 3   T1           19735 non-null  float64\n 4   RH_1         19735 non-null  float64\n 5   T2           19735 non-null  float64\n 6   RH_2         19735 non-null  float64\n 7   T3           19735 non-null  float64\n 8   RH_3         19735 non-null  float64\n 9   T4           19735 non-null  float64\n 10  RH_4         19735 non-null  float64\n 11  T5           19735 non-null  float64\n 12  RH_5         19735 non-null  float64\n 13  T6           19735 non-null  float64\n 14  RH_6         19735 non-null  float64\n 15  T7           19735 non-null  float64\n 16  RH_7         19735 non-null  float64\n 17  T8           19735 non-null  float64\n 18  RH_8         19735 non-null  float64\n 19  T9           19735 non-null  float64\n 20  RH_9         19735 non-null  float64\n 21  T_out        19735 non-null  float64\n 22  Press_mm_hg  19735 non-null  float64\n 23  RH_out       19735 non-null  float64\n 24  Windspeed    19735 non-null  float64\n 25  Visibility   19735 non-null  float64\n 26  Tdewpoint    19735 non-null  float64\n 27  rv1          19735 non-null  float64\n 28  rv2          19735 non-null  float64\ndtypes: float64(26), int64(2), object(1)\nmemory usage: 4.4+ MB\n"
    }
   ],
   "source": [
    "df.info()"
   ]
  },
  {
   "cell_type": "code",
   "execution_count": 27,
   "metadata": {},
   "outputs": [],
   "source": [
    "df.drop(['lights'], axis=1, inplace=True)\n",
    "df.drop(['date'], axis=1, inplace=True)\n"
   ]
  },
  {
   "cell_type": "markdown",
   "metadata": {},
   "source": [
    "# MEAN ABSOLUTE ERROR"
   ]
  },
  {
   "cell_type": "code",
   "execution_count": 30,
   "metadata": {},
   "outputs": [],
   "source": [
    "#normalising the dataset to a common scale using the min max scaler\n",
    "\n",
    "from sklearn.preprocessing import MinMaxScaler\n",
    "\n",
    "scaler = MinMaxScaler()\n",
    "normalised_df = pd.DataFrame(scaler.fit_transform(df), columns=df.columns)\n",
    "features = normalised_df.drop(columns=['Appliances'])\n",
    "target = normalised_df['Appliances']"
   ]
  },
  {
   "cell_type": "code",
   "execution_count": 31,
   "metadata": {},
   "outputs": [],
   "source": [
    "#split data\n",
    "\n",
    "from sklearn.model_selection import train_test_split\n",
    "\n",
    "x_train, x_test, y_train, y_test = train_test_split(features, target, test_size=0.3, random_state=42)"
   ]
  },
  {
   "cell_type": "code",
   "execution_count": 32,
   "metadata": {},
   "outputs": [],
   "source": [
    "#train and predict the data\n",
    "from sklearn.linear_model import LinearRegression\n",
    "\n",
    "\n",
    "linear_model = LinearRegression()\n",
    "linear_model.fit(x_train, y_train)\n",
    "predict_values = linear_model.predict(x_test)\n",
    "\n"
   ]
  },
  {
   "cell_type": "code",
   "execution_count": 33,
   "metadata": {},
   "outputs": [
    {
     "output_type": "execute_result",
     "data": {
      "text/plain": "0.15"
     },
     "metadata": {},
     "execution_count": 33
    }
   ],
   "source": [
    "from sklearn.metrics import r2_score\n",
    "#R_Squared Error or goodness of fit\n",
    "#the higher the values, the better the model. but not always true\n",
    "\n",
    "r2_score = r2_score(y_test, predict_values)\n",
    "round(r2_score,2)"
   ]
  },
  {
   "cell_type": "code",
   "execution_count": 34,
   "metadata": {},
   "outputs": [
    {
     "output_type": "execute_result",
     "data": {
      "text/plain": "45.35"
     },
     "metadata": {},
     "execution_count": 34
    }
   ],
   "source": [
    "#Residual sum of squares\n",
    "#for Residual sum of squares, the lower the value, the better the model's estimations\n",
    "\n",
    "rss = np.sum(np.square(y_test - predict_values))\n",
    "round(rss,2)"
   ]
  },
  {
   "cell_type": "code",
   "execution_count": 35,
   "metadata": {},
   "outputs": [
    {
     "output_type": "execute_result",
     "data": {
      "text/plain": "0.088"
     },
     "metadata": {},
     "execution_count": 35
    }
   ],
   "source": [
    "from sklearn.metrics import mean_squared_error\n",
    "\n",
    "#root mean square error\n",
    "#for RMSE, the lower the values, the smaller the deviation from the actual values\n",
    "rmse = np.sqrt(mean_squared_error(y_test, predict_values))\n",
    "round(rmse,3)"
   ]
  },
  {
   "cell_type": "code",
   "execution_count": 37,
   "metadata": {},
   "outputs": [
    {
     "output_type": "execute_result",
     "data": {
      "text/plain": "0.05"
     },
     "metadata": {},
     "execution_count": 37
    }
   ],
   "source": [
    "from sklearn.metrics import mean_absolute_error\n",
    "\n",
    "#MAE\n",
    "#for mean absolute error, the lower the value, the better the model's estimations\n",
    "\n",
    "mae = mean_absolute_error(y_test, predict_values)\n",
    "round(mae,2)"
   ]
  },
  {
   "cell_type": "code",
   "execution_count": 38,
   "metadata": {},
   "outputs": [
    {
     "output_type": "execute_result",
     "data": {
      "text/plain": "Ridge(alpha=0.4)"
     },
     "metadata": {},
     "execution_count": 38
    }
   ],
   "source": [
    "from sklearn.linear_model import Ridge\n",
    "\n",
    "ridge_reg = Ridge(alpha=0.4)\n",
    "ridge_reg.fit(x_train, y_train)"
   ]
  },
  {
   "cell_type": "code",
   "execution_count": 39,
   "metadata": {},
   "outputs": [
    {
     "output_type": "execute_result",
     "data": {
      "text/plain": "Lasso(alpha=0.001)"
     },
     "metadata": {},
     "execution_count": 39
    }
   ],
   "source": [
    "from sklearn.linear_model import Lasso\n",
    "\n",
    "lasso_reg = Lasso(alpha=0.001)\n",
    "lasso_reg.fit(x_train, y_train)"
   ]
  },
  {
   "cell_type": "code",
   "execution_count": 40,
   "metadata": {},
   "outputs": [],
   "source": [
    "#comparing the effects of regularisation\n",
    "\n",
    "def get_weights_df(model, feat, col_name):\n",
    "    weights = pd.Series(model.coef_, feat.columns).sort_values()\n",
    "    weights_df = pd.DataFrame(weights).reset_index()\n",
    "    weights_df.columns = ['features',col_name]\n",
    "    weights_df[col_name].round(3)\n",
    "    return weights_df\n",
    "\n",
    "linear_model_weights = get_weights_df(linear_model, x_train, 'Linear_model_weight')\n",
    "ridge_weights_df = get_weights_df(ridge_reg, x_train, 'Ridge_weight')\n",
    "lasso_weights_df = get_weights_df(lasso_reg, x_train, 'Lasso_weight')\n",
    "\n",
    "final_weights = pd.merge(linear_model_weights, ridge_weights_df, on='features')\n",
    "final_weights = pd.merge(final_weights, lasso_weights_df, on='features')\n"
   ]
  },
  {
   "cell_type": "code",
   "execution_count": 15,
   "metadata": {},
   "outputs": [
    {
     "output_type": "execute_result",
     "data": {
      "text/plain": "                 features  Linear_model_weight  Ridge_weight  Lasso_weight\n0                   T_out        -1.459044e-15      0.026031      0.000000\n1              Hum_living        -1.457486e-15      0.002661      0.000000\n2       Temp_parents_room        -1.412276e-15      0.002212      0.000000\n3             Temp_living        -1.240122e-15      0.009271      0.000000\n4             Hum_laundry        -5.595745e-16     -0.002051      0.000000\n5        Hum_ironing_room        -5.551319e-16      0.000210      0.000000\n6                  RH_out        -3.334579e-16      0.002396     -0.000000\n7              Visibility        -2.738175e-16      0.000043     -0.000000\n8             Temp_office        -1.810307e-16     -0.000743      0.000000\n9    Hum_outside_building        -1.767906e-16     -0.002608     -0.003799\n10                    rv2        -1.738504e-16     -0.000008     -0.000000\n11            Press_mm_hg        -6.685183e-17     -0.000580     -0.000000\n12     Temp_teenager_room        -5.511803e-17     -0.001040      0.000000\n13             Hum_office        -1.144523e-17      0.001037      0.000000\n14           Temp_laundry         4.166879e-18      0.000803      0.000000\n15              Windspeed         8.873256e-17     -0.000092      0.000000\n16             Temp_Kichn         1.048917e-16     -0.005937      0.000000\n17                    rv1         1.522776e-16     -0.000008     -0.000000\n18           Hum_bathroom         1.743760e-16     -0.000069     -0.000000\n19       Hum_parents_room         2.249668e-16      0.000338      0.000000\n20              Tdewpoint         5.420251e-16     -0.000310      0.000000\n21      Hum_teenager_room         6.972361e-16     -0.001388      0.000000\n22          Temp_bathroom         8.617243e-16     -0.001879      0.000000\n23      Temp_ironing_room         1.227351e-15     -0.001186      0.000000\n24              Hum_kichn         1.668593e-15     -0.000764      0.000000\n25  Temp_outside_building         1.000000e+00      0.970943      0.963632",
      "text/html": "<div>\n<style scoped>\n    .dataframe tbody tr th:only-of-type {\n        vertical-align: middle;\n    }\n\n    .dataframe tbody tr th {\n        vertical-align: top;\n    }\n\n    .dataframe thead th {\n        text-align: right;\n    }\n</style>\n<table border=\"1\" class=\"dataframe\">\n  <thead>\n    <tr style=\"text-align: right;\">\n      <th></th>\n      <th>features</th>\n      <th>Linear_model_weight</th>\n      <th>Ridge_weight</th>\n      <th>Lasso_weight</th>\n    </tr>\n  </thead>\n  <tbody>\n    <tr>\n      <th>0</th>\n      <td>T_out</td>\n      <td>-1.459044e-15</td>\n      <td>0.026031</td>\n      <td>0.000000</td>\n    </tr>\n    <tr>\n      <th>1</th>\n      <td>Hum_living</td>\n      <td>-1.457486e-15</td>\n      <td>0.002661</td>\n      <td>0.000000</td>\n    </tr>\n    <tr>\n      <th>2</th>\n      <td>Temp_parents_room</td>\n      <td>-1.412276e-15</td>\n      <td>0.002212</td>\n      <td>0.000000</td>\n    </tr>\n    <tr>\n      <th>3</th>\n      <td>Temp_living</td>\n      <td>-1.240122e-15</td>\n      <td>0.009271</td>\n      <td>0.000000</td>\n    </tr>\n    <tr>\n      <th>4</th>\n      <td>Hum_laundry</td>\n      <td>-5.595745e-16</td>\n      <td>-0.002051</td>\n      <td>0.000000</td>\n    </tr>\n    <tr>\n      <th>5</th>\n      <td>Hum_ironing_room</td>\n      <td>-5.551319e-16</td>\n      <td>0.000210</td>\n      <td>0.000000</td>\n    </tr>\n    <tr>\n      <th>6</th>\n      <td>RH_out</td>\n      <td>-3.334579e-16</td>\n      <td>0.002396</td>\n      <td>-0.000000</td>\n    </tr>\n    <tr>\n      <th>7</th>\n      <td>Visibility</td>\n      <td>-2.738175e-16</td>\n      <td>0.000043</td>\n      <td>-0.000000</td>\n    </tr>\n    <tr>\n      <th>8</th>\n      <td>Temp_office</td>\n      <td>-1.810307e-16</td>\n      <td>-0.000743</td>\n      <td>0.000000</td>\n    </tr>\n    <tr>\n      <th>9</th>\n      <td>Hum_outside_building</td>\n      <td>-1.767906e-16</td>\n      <td>-0.002608</td>\n      <td>-0.003799</td>\n    </tr>\n    <tr>\n      <th>10</th>\n      <td>rv2</td>\n      <td>-1.738504e-16</td>\n      <td>-0.000008</td>\n      <td>-0.000000</td>\n    </tr>\n    <tr>\n      <th>11</th>\n      <td>Press_mm_hg</td>\n      <td>-6.685183e-17</td>\n      <td>-0.000580</td>\n      <td>-0.000000</td>\n    </tr>\n    <tr>\n      <th>12</th>\n      <td>Temp_teenager_room</td>\n      <td>-5.511803e-17</td>\n      <td>-0.001040</td>\n      <td>0.000000</td>\n    </tr>\n    <tr>\n      <th>13</th>\n      <td>Hum_office</td>\n      <td>-1.144523e-17</td>\n      <td>0.001037</td>\n      <td>0.000000</td>\n    </tr>\n    <tr>\n      <th>14</th>\n      <td>Temp_laundry</td>\n      <td>4.166879e-18</td>\n      <td>0.000803</td>\n      <td>0.000000</td>\n    </tr>\n    <tr>\n      <th>15</th>\n      <td>Windspeed</td>\n      <td>8.873256e-17</td>\n      <td>-0.000092</td>\n      <td>0.000000</td>\n    </tr>\n    <tr>\n      <th>16</th>\n      <td>Temp_Kichn</td>\n      <td>1.048917e-16</td>\n      <td>-0.005937</td>\n      <td>0.000000</td>\n    </tr>\n    <tr>\n      <th>17</th>\n      <td>rv1</td>\n      <td>1.522776e-16</td>\n      <td>-0.000008</td>\n      <td>-0.000000</td>\n    </tr>\n    <tr>\n      <th>18</th>\n      <td>Hum_bathroom</td>\n      <td>1.743760e-16</td>\n      <td>-0.000069</td>\n      <td>-0.000000</td>\n    </tr>\n    <tr>\n      <th>19</th>\n      <td>Hum_parents_room</td>\n      <td>2.249668e-16</td>\n      <td>0.000338</td>\n      <td>0.000000</td>\n    </tr>\n    <tr>\n      <th>20</th>\n      <td>Tdewpoint</td>\n      <td>5.420251e-16</td>\n      <td>-0.000310</td>\n      <td>0.000000</td>\n    </tr>\n    <tr>\n      <th>21</th>\n      <td>Hum_teenager_room</td>\n      <td>6.972361e-16</td>\n      <td>-0.001388</td>\n      <td>0.000000</td>\n    </tr>\n    <tr>\n      <th>22</th>\n      <td>Temp_bathroom</td>\n      <td>8.617243e-16</td>\n      <td>-0.001879</td>\n      <td>0.000000</td>\n    </tr>\n    <tr>\n      <th>23</th>\n      <td>Temp_ironing_room</td>\n      <td>1.227351e-15</td>\n      <td>-0.001186</td>\n      <td>0.000000</td>\n    </tr>\n    <tr>\n      <th>24</th>\n      <td>Hum_kichn</td>\n      <td>1.668593e-15</td>\n      <td>-0.000764</td>\n      <td>0.000000</td>\n    </tr>\n    <tr>\n      <th>25</th>\n      <td>Temp_outside_building</td>\n      <td>1.000000e+00</td>\n      <td>0.970943</td>\n      <td>0.963632</td>\n    </tr>\n  </tbody>\n</table>\n</div>"
     },
     "metadata": {},
     "execution_count": 15
    }
   ],
   "source": [
    "\n",
    "final_weights"
   ]
  },
  {
   "cell_type": "code",
   "execution_count": null,
   "metadata": {},
   "outputs": [],
   "source": []
  }
 ],
 "metadata": {
  "kernelspec": {
   "display_name": "Python 3.6.10 64-bit ('base': conda)",
   "language": "python",
   "name": "python361064bitbasecondaab0bda1e83804022b5fef57150dbacec"
  },
  "language_info": {
   "codemirror_mode": {
    "name": "ipython",
    "version": 3
   },
   "file_extension": ".py",
   "mimetype": "text/x-python",
   "name": "python",
   "nbconvert_exporter": "python",
   "pygments_lexer": "ipython3",
   "version": "3.6.10-final"
  }
 },
 "nbformat": 4,
 "nbformat_minor": 4
}